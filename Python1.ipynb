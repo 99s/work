{
  "nbformat": 4,
  "nbformat_minor": 0,
  "metadata": {
    "colab": {
      "provenance": [],
      "authorship_tag": "ABX9TyNxzb2Vyfcj5AMakFo52jkJ",
      "include_colab_link": true
    },
    "kernelspec": {
      "name": "python3",
      "display_name": "Python 3"
    },
    "language_info": {
      "name": "python"
    }
  },
  "cells": [
    {
      "cell_type": "markdown",
      "metadata": {
        "id": "view-in-github",
        "colab_type": "text"
      },
      "source": [
        "<a href=\"https://colab.research.google.com/github/99s/work/blob/master/Python1.ipynb\" target=\"_parent\"><img src=\"https://colab.research.google.com/assets/colab-badge.svg\" alt=\"Open In Colab\"/></a>"
      ]
    },
    {
      "cell_type": "code",
      "execution_count": 9,
      "metadata": {
        "colab": {
          "base_uri": "https://localhost:8080/"
        },
        "id": "YvGFRSGWU7ky",
        "outputId": "929f3a32-d17c-4b61-cc12-0331d6bb9e18"
      },
      "outputs": [
        {
          "output_type": "stream",
          "name": "stdout",
          "text": [
            "global1c  90\n",
            "test\n",
            "3 greater\n",
            "3 + 2 is  5\n",
            "int =  2 float =  2.0 str =  2\n",
            "global1a  90\n"
          ]
        }
      ],
      "source": [
        "'''\n",
        "just a print statement\n",
        "'''\n",
        "print('global1c ',g1)\n",
        "print (\"test\")\n",
        "#if statement branching\n",
        "if 3 > 2 :\n",
        "  print('3 greater')\n",
        "x = 2\n",
        "y = 3\n",
        "#addition\n",
        "print ('3 + 2 is ', x+y)\n",
        "# typecasting\n",
        "a = int(2)\n",
        "b = float(2)\n",
        "c = str(2)\n",
        "\n",
        "print('int = ',  a , 'float = ',b, 'str = ', c)\n",
        "\n",
        "global g1\n",
        "\n",
        "if(True):\n",
        "   g1 = 90\n",
        "print('global1a ',g1)\n"
      ]
    },
    {
      "cell_type": "code",
      "source": [
        "print('global1b ',g1)"
      ],
      "metadata": {
        "colab": {
          "base_uri": "https://localhost:8080/"
        },
        "id": "00xMzSR0ELhF",
        "outputId": "d739800a-3014-4c31-d474-bac2a454571a"
      },
      "execution_count": 8,
      "outputs": [
        {
          "output_type": "stream",
          "name": "stdout",
          "text": [
            "global1b  90\n"
          ]
        }
      ]
    },
    {
      "cell_type": "code",
      "source": [
        "x = \"Hello World\"\n",
        "print ('x is ', x, 'type', type(x))\n",
        "x = 20\n",
        "print ('x is ', x, 'type', type(x))\n",
        "x = 20.5\n",
        "print ('x is ', x, 'type', type(x))\n",
        "x = 1j\n",
        "print ('x is ', x, 'type', type(x))\n",
        "x = [\"apple\", \"banana\", \"cherry\"]\n",
        "print ('x is ', x, 'type', type(x))\n",
        "x = (\"apple\", \"banana\", \"cherry\")\n",
        "print ('x is ', x, 'type', type(x))\n",
        "x = range(6)\n",
        "print ('x is ', x, 'type', type(x))\n",
        "x = {\"name\" : \"John\", \"age\" : 36}\n",
        "print ('x is ', x, 'type', type(x))\n",
        "x = {\"apple\", \"banana\", \"cherry\"}\n",
        "print ('x is ', x, 'type', type(x))\n",
        "x = frozenset({\"apple\", \"banana\", \"cherry\"})\n",
        "print ('x is ', x, 'type', type(x))\n",
        "x = True\n",
        "print ('x is ', x, 'type', type(x))\n",
        "x = b\"Hello\"\n",
        "print ('x is ', x, 'type', type(x))\n",
        "x = bytearray(5)\n",
        "print ('x is ', x, 'type', type(x))\n",
        "x = memoryview(bytes(5))\n",
        "print ('x is ', x, 'type', type(x))\n",
        "x = None\n",
        "print ('x is ', x, 'type', type(x))"
      ],
      "metadata": {
        "colab": {
          "base_uri": "https://localhost:8080/"
        },
        "id": "zgvv4GsgGAzM",
        "outputId": "e5e3e3d0-5201-40bb-81f4-f841a9bd6158"
      },
      "execution_count": 11,
      "outputs": [
        {
          "output_type": "stream",
          "name": "stdout",
          "text": [
            "x is  Hello World type <class 'str'>\n",
            "x is  20 type <class 'int'>\n",
            "x is  20.5 type <class 'float'>\n",
            "x is  1j type <class 'complex'>\n",
            "x is  ['apple', 'banana', 'cherry'] type <class 'list'>\n",
            "x is  ('apple', 'banana', 'cherry') type <class 'tuple'>\n",
            "x is  range(0, 6) type <class 'range'>\n",
            "x is  {'name': 'John', 'age': 36} type <class 'dict'>\n",
            "x is  {'cherry', 'banana', 'apple'} type <class 'set'>\n",
            "x is  frozenset({'cherry', 'banana', 'apple'}) type <class 'frozenset'>\n",
            "x is  True type <class 'bool'>\n",
            "x is  b'Hello' type <class 'bytes'>\n",
            "x is  bytearray(b'\\x00\\x00\\x00\\x00\\x00') type <class 'bytearray'>\n",
            "x is  <memory at 0x7fbded1f0b80> type <class 'memoryview'>\n",
            "x is  None type <class 'NoneType'>\n"
          ]
        }
      ]
    }
  ]
}